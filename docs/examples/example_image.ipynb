{
  "nbformat": 4,
  "nbformat_minor": 0,
  "metadata": {
    "colab": {
      "provenance": []
    },
    "kernelspec": {
      "name": "python3",
      "display_name": "Python 3"
    },
    "language_info": {
      "name": "python"
    }
  },
  "cells": [
    {
      "cell_type": "code",
      "execution_count": null,
      "metadata": {
        "id": "yrBvnPIJ_iZZ"
      },
      "outputs": [],
      "source": [
        "import os\n",
        "from pathlib import Path\n",
        "import torch\n",
        "import yaml\n",
        "from yaml.loader import SafeLoader\n",
        "import json"
      ]
    },
    {
      "cell_type": "code",
      "source": [
        "try:\n",
        "  import wandb\n",
        "  import trimesh\n",
        "except ModuleNotFoundError:\n",
        "  !pip install wandb trimesh"
      ],
      "metadata": {
        "id": "nCZBcFrpG17r"
      },
      "execution_count": null,
      "outputs": []
    },
    {
      "cell_type": "code",
      "source": [
        "json_path = input(\"path to credentials json\")\n",
        "f = open(json_path)\n",
        "cred_data = json.load(f)\n",
        "f.close()"
      ],
      "metadata": {
        "id": "pOLeE-lYCG3_"
      },
      "execution_count": null,
      "outputs": []
    },
    {
      "cell_type": "code",
      "source": [
        "!pip install git+https://{cred_data[\"access_token\"]}@github.com/visgraf/mrnet.git@dev"
      ],
      "metadata": {
        "id": "1roIO31kA6Zw"
      },
      "execution_count": null,
      "outputs": []
    },
    {
      "cell_type": "code",
      "source": [
        "from mrnet.logs.wandblogger import WandBLogger2D\n",
        "from mrnet.training.trainer import MRTrainer\n",
        "from mrnet.datasets.signals import ImageSignal\n",
        "from mrnet.networks.mrnet import MRFactory\n",
        "from mrnet.datasets.pyramids import create_MR_structure"
      ],
      "metadata": {
        "id": "OHi8zLy0ACGL"
      },
      "execution_count": null,
      "outputs": []
    },
    {
      "cell_type": "code",
      "source": [
        "os.environ[\"WANDB_NOTEBOOK_NAME\"] = \"mrnet_image_reconstruction.ipynb\"\n",
        "BASE_DIR = Path('.').absolute()\n",
        "IMAGE_PATH = BASE_DIR.joinpath('img')\n",
        "MODEL_PATH = BASE_DIR.joinpath('models')\n",
        "torch.manual_seed(777)\n",
        "\n",
        "#-- hyperparameters in configs --#\n",
        "config_file = 'configs/image.yml'\n",
        "with open(config_file) as f:\n",
        "    hyper = yaml.load(f, Loader=SafeLoader)\n",
        "    if isinstance(hyper['batch_size'], str):\n",
        "        hyper['batch_size'] = eval(hyper['batch_size'])\n",
        "    if hyper.get('channels', 0) == 0:\n",
        "            hyper['channels'] = hyper['out_features']\n",
        "    print(hyper)\n",
        "imgpath = os.path.join(IMAGE_PATH, hyper['image_name'])\n",
        "project_name = hyper.get('project_name', 'dev_sandbox')\n",
        "hyper['device']"
      ],
      "metadata": {
        "id": "EuMLz6xDAGEB"
      },
      "execution_count": null,
      "outputs": []
    },
    {
      "cell_type": "code",
      "source": [
        "base_signal = ImageSignal.init_fromfile(\n",
        "                    imgpath,\n",
        "                    domain=hyper['domain'],\n",
        "                    channels=hyper['channels'],\n",
        "                    sampling_scheme=hyper['sampling_scheme'],\n",
        "                    width=hyper['width'], height=hyper['height'],\n",
        "                    attributes=hyper['attributes'],\n",
        "                    batch_size=hyper['batch_size'],\n",
        "                    color_space=hyper['color_space'])\n",
        "\n",
        "train_dataset = create_MR_structure(base_signal,\n",
        "                                       hyper['max_stages'],\n",
        "                                       hyper['filter'],\n",
        "                                       hyper['decimation'],\n",
        "                                       hyper['pmode'])\n",
        "test_dataset = create_MR_structure(base_signal,\n",
        "                                      hyper['max_stages'],\n",
        "                                      hyper['filter'],\n",
        "                                      False,\n",
        "                                      hyper['pmode'])\n",
        "\n",
        "if hyper['width'] == 0:\n",
        "    hyper['width'] = base_signal.shape[-1]\n",
        "if hyper['height'] == 0:\n",
        "    hyper['height'] = base_signal.shape[-1]"
      ],
      "metadata": {
        "id": "IBVDhu1rANxx"
      },
      "execution_count": null,
      "outputs": []
    },
    {
      "cell_type": "code",
      "source": [
        "img_name = os.path.basename(hyper['image_name'])\n",
        "mrmodel = MRFactory.from_dict(hyper)\n",
        "print(\"Model: \", type(mrmodel))\n",
        "wandblogger = WandBLogger2D(project_name,\n",
        "                            f\"{hyper['model']}{hyper['filter'][0].upper()}{img_name[0:5]}{hyper['color_space'][0]}\",\n",
        "                            hyper,\n",
        "                            BASE_DIR)\n",
        "mrtrainer = MRTrainer.init_from_dict(mrmodel,\n",
        "                                     train_dataset,\n",
        "                                     test_dataset,\n",
        "                                     wandblogger,\n",
        "                                     hyper)\n",
        "mrtrainer.train(hyper['device'])"
      ],
      "metadata": {
        "id": "7Qpc-IgkAV-f"
      },
      "execution_count": null,
      "outputs": []
    }
  ]
}