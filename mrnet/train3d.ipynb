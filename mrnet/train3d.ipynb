{
 "cells": [
  {
   "cell_type": "code",
   "execution_count": null,
   "metadata": {},
   "outputs": [],
   "source": [
    "import torch\n",
    "import os\n",
    "from pathlib import Path\n",
    "#from logs.locallogger import LocalLogger3D\n",
    "from logs.wandblogger import WandBLogger3D \n",
    "from training.trainer import MRTrainer\n",
    "from datasets.signals import VolumeSignal, Procedural3DSignal\n",
    "from networks.mrnet import MRFactory\n",
    "from datasets.pyramids import create_MR_structure\n",
    "import yaml\n",
    "from yaml.loader import SafeLoader\n",
    "import matplotlib.pyplot as plt\n",
    "from datasets.procedural import voronoi_texture, marble_texture"
   ]
  },
  {
   "cell_type": "code",
   "execution_count": null,
   "metadata": {},
   "outputs": [],
   "source": [
    "os.environ[\"WANDB_NOTEBOOK_NAME\"] = \"train3d.ipynb\"\n",
    "BASE_DIR = Path('.').absolute().parents[0]\n",
    "VOXEL_PATH = BASE_DIR.joinpath('vox')\n",
    "MODEL_PATH = BASE_DIR.joinpath('models')"
   ]
  },
  {
   "cell_type": "code",
   "execution_count": null,
   "metadata": {},
   "outputs": [],
   "source": [
    "project_name = \"dev-sandbox\"\n",
    "config_file = '../configs/config_3d_m_net.yml'\n",
    "with open(config_file) as f:\n",
    "    hyper = yaml.load(f, Loader=SafeLoader)\n",
    "    if isinstance(hyper['batch_size'], str):\n",
    "        hyper['batch_size'] = eval(hyper['batch_size'])\n",
    "    if hyper['channels'] == 0:\n",
    "        hyper['channels'] = hyper['out_features']\n",
    "    print(hyper)\n",
    "filepath = os.path.join(VOXEL_PATH, hyper['filename'])\n",
    "torch.manual_seed(777)"
   ]
  },
  {
   "cell_type": "code",
   "execution_count": null,
   "metadata": {},
   "outputs": [],
   "source": [
    "# vol = torch.from_numpy(checker(dim, 32))\n",
    "# base_signal = VolumeSignal(vol.view((1, dim, dim, dim)),\n",
    "#                            hyper['domain'],\n",
    "#                            batch_size=hyper['batch_size'])\n",
    "# base_signal = VolumeSignal.init_fromfile(filepath,\n",
    "#                                          hyper['domain'],\n",
    "#                                          channels=hyper['channels'],\n",
    "#                                          batch_size=hyper['batch_size'])\n",
    "\n",
    "# train_dataloader = create_MR_structure(base_signal, hyper['max_stages'],\n",
    "#                                         hyper['filter'], hyper['decimation'])\n",
    "# test_dataloader = create_MR_structure(base_signal, hyper['max_stages'],\n",
    "#                                         hyper['filter'], False)\n",
    "dim = hyper['width']\n",
    "# proc = voronoi_texture(4)\n",
    "proc = marble_texture(2/dim)\n",
    "base_signal = Procedural3DSignal(\n",
    "    proc,\n",
    "    (dim, dim, dim),\n",
    "    channels=hyper['channels'],\n",
    "    domain=hyper['domain'],\n",
    "    batch_size=hyper['batch_size'],\n",
    "    color_space=hyper['color_space']\n",
    ")\n",
    "train_dataloader = [base_signal]\n",
    "test_dataloader = [base_signal]"
   ]
  },
  {
   "cell_type": "code",
   "execution_count": null,
   "metadata": {},
   "outputs": [],
   "source": [
    "filename = os.path.basename(hyper['filename'])\n",
    "wandblogger = WandBLogger3D(project_name,\n",
    "                            f\"{hyper['model']}{hyper['filter'][0].upper()}{filename[0:5]}\",\n",
    "                            hyper,\n",
    "                            BASE_DIR)\n",
    "mrmodel = MRFactory.from_dict(hyper)\n",
    "print(\"Model: \", type(mrmodel))\n",
    "mrtrainer = MRTrainer.init_from_dict(mrmodel, train_dataloader, test_dataloader, wandblogger, hyper)\n",
    "mrtrainer.train(hyper['device'])"
   ]
  }
 ],
 "metadata": {
  "kernelspec": {
   "display_name": "Python 3.11.3 ('venv': venv)",
   "language": "python",
   "name": "python3"
  },
  "language_info": {
   "codemirror_mode": {
    "name": "ipython",
    "version": 3
   },
   "file_extension": ".py",
   "mimetype": "text/x-python",
   "name": "python",
   "nbconvert_exporter": "python",
   "pygments_lexer": "ipython3",
   "version": "3.9.13"
  },
  "orig_nbformat": 4,
  "vscode": {
   "interpreter": {
    "hash": "18fae99c00fc8e14a15ff5b63f2ba50919b3e541fb0c0acba9c6dcfa2727f204"
   }
  }
 },
 "nbformat": 4,
 "nbformat_minor": 2
}
