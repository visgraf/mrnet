{
 "cells": [
  {
   "cell_type": "code",
   "execution_count": null,
   "metadata": {},
   "outputs": [],
   "source": [
    "import torch\n",
    "import os\n",
    "from pathlib import Path\n",
    "from networks.mrnet import MRFactory\n",
    "from datasets.sampler import make_grid_coords\n",
    "import yaml\n",
    "from yaml.loader import SafeLoader\n",
    "import matplotlib.pyplot as plt\n",
    "from PIL import Image\n",
    "import numpy as np"
   ]
  },
  {
   "cell_type": "code",
   "execution_count": null,
   "metadata": {},
   "outputs": [],
   "source": [
    "os.environ[\"WANDB_NOTEBOOK_NAME\"] = \"eval-net.ipynb\"\n",
    "BASE_DIR = Path('.').absolute().parents[0]\n",
    "IMAGE_PATH = BASE_DIR.joinpath('img')\n",
    "MODEL_PATH = BASE_DIR.joinpath('models')"
   ]
  },
  {
   "cell_type": "code",
   "execution_count": null,
   "metadata": {},
   "outputs": [],
   "source": [
    "project_name = \"test_eval\"\n",
    "with open('../configs/config_base_m_net.yml') as f:\n",
    "    hyper = yaml.load(f, Loader=SafeLoader)"
   ]
  },
  {
   "cell_type": "code",
   "execution_count": null,
   "metadata": {},
   "outputs": [],
   "source": [
    "# TODO: download model automatically from W&B if can't find it locally\n",
    "mrmodel = MRFactory.load_state_dict(\n",
    "    os.path.join(MODEL_PATH, \n",
    "                 #'MGchec_louco_3-3_w16T_hf289_MEp2000_hl1_256px.pth'\n",
    "                 \"MGpic7._1-1_w128F_hf256256_MEp200_hl1_r512_pr4.pth\"\n",
    "                 )\n",
    ")"
   ]
  },
  {
   "cell_type": "code",
   "execution_count": null,
   "metadata": {},
   "outputs": [],
   "source": [
    "print(\"Model: \", type(mrmodel))"
   ]
  },
  {
   "cell_type": "code",
   "execution_count": null,
   "metadata": {},
   "outputs": [],
   "source": [
    "for p in mrmodel.parameters():\n",
    "    print(\"p: \", p.shape, \" = \", p.numel())\n",
    "total_params = sum(p.numel() for p in mrmodel.parameters()) - mrmodel.n_stages()\n",
    "print(\"TOTAL = \", total_params)\n",
    "print(\"MODEL TOTAL = \", mrmodel.total_parameters())"
   ]
  },
  {
   "cell_type": "code",
   "execution_count": null,
   "metadata": {},
   "outputs": [],
   "source": [
    "output = mrmodel(make_grid_coords(256, 256, *hyper['domain']))\n",
    "model_out = torch.clamp(output['model_out'], 0.0, 1.0)\n",
    "\n",
    "plt.imshow(model_out.cpu().view(256, 256).detach().numpy())"
   ]
  },
  {
   "cell_type": "code",
   "execution_count": null,
   "metadata": {},
   "outputs": [],
   "source": [
    "import ipywidgets as widgets\n",
    "from ipywidgets import interact, interactive, Box, interact_manual"
   ]
  },
  {
   "attachments": {},
   "cell_type": "markdown",
   "metadata": {},
   "source": [
    "## Extrapolation"
   ]
  },
  {
   "cell_type": "code",
   "execution_count": null,
   "metadata": {},
   "outputs": [],
   "source": [
    "slider = widgets.FloatRangeSlider(\n",
    "    value=[-1.0, 1.0],\n",
    "    min=-7,\n",
    "    max=7,\n",
    "    step=0.1,\n",
    "    description='Interval:',\n",
    "    disabled=False,\n",
    "    continuous_update=False,\n",
    "    orientation='horizontal',\n",
    "    readout=True,\n",
    "    readout_format='.1f',\n",
    "    layout=widgets.Layout(width='50%')\n",
    ")\n",
    "\n",
    "model = mrmodel\n",
    "res = 512\n",
    "channels=1\n",
    "def plot_model(interval):\n",
    "    grid = make_grid_coords(res, res, *interval)\n",
    "    output = model(grid)\n",
    "    model_out = torch.clamp(output['model_out'], 0.0, 1.0)\n",
    "\n",
    "    pixels = model_out.cpu().detach().view(res, res, channels).numpy()\n",
    "    pixels = (pixels * 255).astype(np.uint8)\n",
    "    if channels == 1:\n",
    "        pixels = np.repeat(pixels, 3, axis=-1)\n",
    "    return Image.fromarray(pixels)\n",
    "\n",
    "interact(plot_model, interval=slider)"
   ]
  },
  {
   "attachments": {},
   "cell_type": "markdown",
   "metadata": {},
   "source": [
    "## Continuous in Scale"
   ]
  },
  {
   "cell_type": "code",
   "execution_count": null,
   "metadata": {},
   "outputs": [],
   "source": [
    "level_slider = widgets.FloatSlider(\n",
    "        value=1.0,\n",
    "        min=0.0,\n",
    "        max=float(mrmodel.n_stages()),\n",
    "        step=0.05,\n",
    "        description=f'Multilevel',\n",
    "        disabled=False,\n",
    "        continuous_update=True,\n",
    "        readout=True,\n",
    "        orientation='horizontal',\n",
    "        readout_format='.2f',\n",
    "        layout=widgets.Layout(width='50%')\n",
    ")\n",
    "def plot_model(level):\n",
    "    grid = make_grid_coords(res, res, -1.0, 1.0)\n",
    "    weights = []\n",
    "    for s in range(mrmodel.n_stages()):\n",
    "        if level >= s + 1:\n",
    "             weights.append(1.0)\n",
    "        else:\n",
    "             weights.append(max(level - s, 0.0))\n",
    "\n",
    "    output = model(grid, mrweights=torch.Tensor(weights))\n",
    "    model_out = torch.clamp(output['model_out'], 0.0, 1.0)\n",
    "\n",
    "    pixels = model_out.cpu().detach().view(res, res, channels).numpy()\n",
    "    pixels = (pixels * 255).astype(np.uint8)\n",
    "    if channels == 1:\n",
    "        pixels = np.repeat(pixels, 3, axis=-1)\n",
    "    return Image.fromarray(pixels)\n",
    "\n",
    "interact(plot_model, level=level_slider)"
   ]
  }
 ],
 "metadata": {
  "kernelspec": {
   "display_name": "venv",
   "language": "python",
   "name": "python3"
  },
  "language_info": {
   "codemirror_mode": {
    "name": "ipython",
    "version": 3
   },
   "file_extension": ".py",
   "mimetype": "text/x-python",
   "name": "python",
   "nbconvert_exporter": "python",
   "pygments_lexer": "ipython3",
   "version": "3.9.13"
  },
  "orig_nbformat": 4,
  "vscode": {
   "interpreter": {
    "hash": "fab3350075437ee175cb2bb5772eae02a2f558518190f925dd0f12cc356ed9ef"
   }
  }
 },
 "nbformat": 4,
 "nbformat_minor": 2
}
