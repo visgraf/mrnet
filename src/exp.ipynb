{
 "cells": [
  {
   "cell_type": "code",
   "execution_count": null,
   "metadata": {},
   "outputs": [],
   "source": [
    "from scipy.ndimage import sobel\n",
    "from PIL import Image\n",
    "import numpy as np\n",
    "import torch\n",
    "import matplotlib.pyplot as plt"
   ]
  },
  {
   "cell_type": "code",
   "execution_count": null,
   "metadata": {},
   "outputs": [],
   "source": [
    "x = torch.from_numpy(np.linspace(-1, 1, 128))\n",
    "signal =  x**3\n",
    "signal.shape"
   ]
  },
  {
   "cell_type": "code",
   "execution_count": null,
   "metadata": {},
   "outputs": [],
   "source": [
    "plt.plot(x, signal)"
   ]
  },
  {
   "cell_type": "code",
   "execution_count": null,
   "metadata": {},
   "outputs": [],
   "source": [
    "d1 = sobel(signal)\n",
    "plt.plot(x, d1)"
   ]
  },
  {
   "cell_type": "code",
   "execution_count": null,
   "metadata": {},
   "outputs": [],
   "source": [
    "img = Image.open('E:\\Workspace\\impa\\mrnet\\img\\hallpaz.jpg')\n",
    "img"
   ]
  },
  {
   "cell_type": "code",
   "execution_count": null,
   "metadata": {},
   "outputs": [],
   "source": [
    "signal2 = torch.from_numpy(np.array(img)).permute((2, 0, 1)) / 255\n",
    "signal2.shape"
   ]
  },
  {
   "cell_type": "code",
   "execution_count": null,
   "metadata": {},
   "outputs": [],
   "source": [
    "d1x = sobel(signal2, axis=1)\n",
    "d1x.shape"
   ]
  },
  {
   "cell_type": "code",
   "execution_count": null,
   "metadata": {},
   "outputs": [],
   "source": [
    "np.min(d1x), np.max(d1x)"
   ]
  },
  {
   "cell_type": "code",
   "execution_count": null,
   "metadata": {},
   "outputs": [],
   "source": [
    "plt.figure(figsize=(18, 6))\n",
    "plt.imshow(np.hstack([d1x[i, ...] for i in range(len(d1x))]), cmap='gray')"
   ]
  },
  {
   "cell_type": "code",
   "execution_count": null,
   "metadata": {},
   "outputs": [],
   "source": [
    "d1y = sobel(signal2, axis=2)\n",
    "d1y.shape, np.min(d1y), np.max(d1y)"
   ]
  },
  {
   "cell_type": "code",
   "execution_count": null,
   "metadata": {},
   "outputs": [],
   "source": [
    "plt.figure(figsize=(18, 6))\n",
    "plt.imshow(np.hstack([d1y[i, ...] for i in range(len(d1y))]), cmap='gray')"
   ]
  },
  {
   "cell_type": "code",
   "execution_count": null,
   "metadata": {},
   "outputs": [],
   "source": [
    "mag = np.sqrt(d1x**2 + d1y**2)\n",
    "mag.shape, np.min(mag), np.max(mag)"
   ]
  },
  {
   "cell_type": "code",
   "execution_count": null,
   "metadata": {},
   "outputs": [],
   "source": [
    "plt.figure(figsize=(18, 6))\n",
    "plt.imshow(np.hstack([mag[i, ...] for i in range(len(mag))]), cmap='gray')"
   ]
  },
  {
   "cell_type": "code",
   "execution_count": null,
   "metadata": {},
   "outputs": [],
   "source": [
    "derivatives = torch.stack(\n",
    "    [torch.from_numpy(d1x), torch.from_numpy(d1y)], dim=-1)\n",
    "derivatives.shape"
   ]
  },
  {
   "cell_type": "code",
   "execution_count": null,
   "metadata": {},
   "outputs": [],
   "source": [
    "import torch\n",
    "from datasets.procedural import marble_texture\n",
    "from datasets.utils import make_domain_slices\n",
    "import matplotlib.pyplot as plt\n",
    "import numpy as np"
   ]
  },
  {
   "cell_type": "code",
   "execution_count": null,
   "metadata": {},
   "outputs": [],
   "source": [
    "res = 256\n",
    "views = ['x', 'y', 'z', 'xy']\n",
    "slices = make_domain_slices(res, -1, 1, views)\n",
    "def cmap(x):\n",
    "    color = 0.5 + 0.5 * torch.sin(torch.sin(4 * x**2))\n",
    "    return torch.ones((len(color), 3)) * color.unsqueeze(-1)\n",
    "proc = marble_texture(2/res, color_map=cmap, variation=0.2)\n",
    "\n",
    "values = [proc(slice.view(-1, 3)).reshape(res, res, 3).numpy() \n",
    "            for slice in slices]\n",
    "plt.figure(figsize=(28, 7))\n",
    "plt.imshow(np.hstack(values))\n"
   ]
  },
  {
   "cell_type": "code",
   "execution_count": null,
   "metadata": {},
   "outputs": [],
   "source": [
    "from datasets.utils import make_grid_coords\n",
    "from PIL import Image\n",
    "from torchvision.transforms.functional import to_tensor\n",
    "import torch\n",
    "datashape = 550\n",
    "coords = make_grid_coords(datashape, -1, 1, 2)\n",
    "n = len(coords)\n",
    "domain_mask = Image.open(\"E:\\Workspace\\impa\\mrnet\\img\\masks\\sanity550.png\")\n",
    "domain_mask = to_tensor(domain_mask).squeeze(0).bool()\n",
    "        "
   ]
  },
  {
   "cell_type": "code",
   "execution_count": null,
   "metadata": {},
   "outputs": [],
   "source": [
    "domain_mask"
   ]
  },
  {
   "cell_type": "code",
   "execution_count": null,
   "metadata": {},
   "outputs": [],
   "source": [
    "all(domain_mask.view(-1) == torch.ones(len(coords)))"
   ]
  },
  {
   "cell_type": "code",
   "execution_count": null,
   "metadata": {},
   "outputs": [],
   "source": [
    "sampled_indices1 = torch.arange(0, n, dtype=torch.long)\n",
    "sampled_indices2 = torch.arange(0, n)[domain_mask.view(-1)]"
   ]
  },
  {
   "cell_type": "code",
   "execution_count": null,
   "metadata": {},
   "outputs": [],
   "source": [
    "sampled_indices1"
   ]
  },
  {
   "cell_type": "code",
   "execution_count": null,
   "metadata": {},
   "outputs": [],
   "source": [
    "sampled_indices2.dtype"
   ]
  },
  {
   "cell_type": "code",
   "execution_count": null,
   "metadata": {},
   "outputs": [],
   "source": [
    "sum(sampled_indices1 - sampled_indices2)"
   ]
  },
  {
   "cell_type": "code",
   "execution_count": 1,
   "metadata": {},
   "outputs": [],
   "source": [
    "import skimage\n",
    "import numpy as np\n",
    "from PIL import Image"
   ]
  },
  {
   "cell_type": "code",
   "execution_count": 5,
   "metadata": {},
   "outputs": [
    {
     "name": "stdout",
     "output_type": "stream",
     "text": [
      "255 255 (1024, 1024, 4)\n"
     ]
    }
   ],
   "source": [
    "gtpath = \"E:\\Downloads\\media_images_Ground Truth_402_6753398770d0f290113b.png\"\n",
    "predpath = \"E:\\Downloads\\media_images_Prediction_405_42aa04971b5b98a19336.png\"\n",
    "gt = np.array(Image.open(gtpath))\n",
    "pred = np.array(Image.open(predpath))\n",
    "print(gt.max(), pred.max(), pred.shape)\n",
    "psnr = skimage.metrics.peak_signal_noise_ratio(gt, pred, data_range=255)\n",
    "ssim = skimage.metrics.structural_similarity(gt, pred, \n",
    "                                             data_range=255, channel_axis=-1)"
   ]
  },
  {
   "cell_type": "code",
   "execution_count": 6,
   "metadata": {},
   "outputs": [
    {
     "data": {
      "text/plain": [
       "28.630683627154532"
      ]
     },
     "execution_count": 6,
     "metadata": {},
     "output_type": "execute_result"
    }
   ],
   "source": [
    "psnr"
   ]
  },
  {
   "cell_type": "code",
   "execution_count": 7,
   "metadata": {},
   "outputs": [
    {
     "data": {
      "text/plain": [
       "0.8979942854264891"
      ]
     },
     "execution_count": 7,
     "metadata": {},
     "output_type": "execute_result"
    }
   ],
   "source": [
    "ssim"
   ]
  },
  {
   "cell_type": "code",
   "execution_count": null,
   "metadata": {},
   "outputs": [],
   "source": []
  }
 ],
 "metadata": {
  "kernelspec": {
   "display_name": "venv",
   "language": "python",
   "name": "python3"
  },
  "language_info": {
   "codemirror_mode": {
    "name": "ipython",
    "version": 3
   },
   "file_extension": ".py",
   "mimetype": "text/x-python",
   "name": "python",
   "nbconvert_exporter": "python",
   "pygments_lexer": "ipython3",
   "version": "3.9.13"
  },
  "orig_nbformat": 4
 },
 "nbformat": 4,
 "nbformat_minor": 2
}
