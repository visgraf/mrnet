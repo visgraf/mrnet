{
 "cells": [
  {
   "cell_type": "code",
   "execution_count": null,
   "metadata": {},
   "outputs": [],
   "source": [
    "import torch\n",
    "import os\n",
    "from pathlib import Path\n",
    "from logs.locallogger import LocalLogger2D\n",
    "from training.trainer import MRTrainer\n",
    "from datasets.imagesignal import ImageSignal\n",
    "from networks.mrnet import MRFactory\n",
    "from datasets.pyramids import create_MR_structure\n",
    "from datasets.sampler import make_grid_coords\n",
    "import yaml\n",
    "from yaml.loader import SafeLoader\n",
    "import matplotlib.pyplot as plt"
   ]
  },
  {
   "cell_type": "code",
   "execution_count": null,
   "metadata": {},
   "outputs": [],
   "source": [
    "os.environ[\"WANDB_NOTEBOOK_NAME\"] = \"train-wb.ipynb\"\n",
    "BASE_DIR = Path('.').absolute().parents[0]\n",
    "IMAGE_PATH = BASE_DIR.joinpath('img')\n",
    "MODEL_PATH = BASE_DIR.joinpath('models')"
   ]
  },
  {
   "cell_type": "code",
   "execution_count": null,
   "metadata": {},
   "outputs": [],
   "source": [
    "project_name = \"evaluation\"\n",
    "config_file = '../configs/config_base_m_net.yml'\n",
    "with open(config_file) as f:\n",
    "    hyper = yaml.load(f, Loader=SafeLoader)\n",
    "    print(hyper)"
   ]
  },
  {
   "cell_type": "code",
   "execution_count": null,
   "metadata": {},
   "outputs": [],
   "source": [
    "base_signal = ImageSignal.init_fromfile(\n",
    "                    os.path.join(IMAGE_PATH, hyper['image_name']),\n",
    "                    domain=hyper['domain'],\n",
    "                    batch_samples_perc=hyper['batch_samples_perc'],\n",
    "                    sampling_scheme=hyper['sampling_scheme'],\n",
    "                    width=hyper['width'], height= hyper['height'],\n",
    "                    attributes=hyper['attributes'],\n",
    "                    channels=hyper['channels'])\n",
    "train_dataloader = create_MR_structure(base_signal, hyper['max_stages'],\n",
    "                                        hyper['filter'], hyper['decimation'])\n",
    "test_dataloader = create_MR_structure(base_signal, hyper['max_stages'],\n",
    "                                        hyper['filter'])"
   ]
  },
  {
   "cell_type": "code",
   "execution_count": null,
   "metadata": {},
   "outputs": [],
   "source": [
    "locallogger = LocalLogger2D(project_name,\n",
    "                            f\"{hyper['model']}{hyper['filter'][0].upper()}{hyper['image_name'][0:4]}_\",\n",
    "                            hyper,\n",
    "                            BASE_DIR, \n",
    "                            to_file=True)\n",
    "mrmodel = MRFactory.from_dict(hyper)\n",
    "print(\"Model: \", type(mrmodel))\n",
    "mrtrainer = MRTrainer.init_from_dict(mrmodel, \n",
    "                                    train_dataloader, test_dataloader, locallogger, hyper)\n",
    "mrtrainer.train(hyper['device'])"
   ]
  },
  {
   "cell_type": "code",
   "execution_count": null,
   "metadata": {},
   "outputs": [],
   "source": [
    "filename = f\"{hyper['model']}{hyper['filter'][0].upper()}{hyper['image_name'][0:4]}.pth\"\n",
    "path = os.path.join(MODEL_PATH, filename)\n",
    "\n",
    "MRFactory.save(mrmodel, path)"
   ]
  },
  {
   "cell_type": "code",
   "execution_count": null,
   "metadata": {},
   "outputs": [],
   "source": [
    "mrmodel_eval = MRFactory.load_state_dict(path)\n",
    "\n",
    "output = mrmodel_eval(make_grid_coords((hyper['width'], hyper['height']), \n",
    "                                       *hyper['domain'], dim=2))\n",
    "model_out = torch.clamp(output['model_out'], 0.0, 1.0)\n",
    "\n",
    "plt.imshow(model_out.cpu().view(hyper['width'], hyper['height']).detach().numpy())"
   ]
  },
  {
   "cell_type": "code",
   "execution_count": null,
   "metadata": {},
   "outputs": [],
   "source": []
  }
 ],
 "metadata": {
  "kernelspec": {
   "display_name": "venv",
   "language": "python",
   "name": "python3"
  },
  "language_info": {
   "codemirror_mode": {
    "name": "ipython",
    "version": 3
   },
   "file_extension": ".py",
   "mimetype": "text/x-python",
   "name": "python",
   "nbconvert_exporter": "python",
   "pygments_lexer": "ipython3",
   "version": "3.9.13"
  },
  "orig_nbformat": 4,
  "vscode": {
   "interpreter": {
    "hash": "dd77ee0031db3dd6d016d6e7203fbc86ecf7c1ed8e6035b36e3b7f33d1978d23"
   }
  }
 },
 "nbformat": 4,
 "nbformat_minor": 2
}
