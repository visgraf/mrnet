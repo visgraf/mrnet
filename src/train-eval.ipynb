{
 "cells": [
  {
   "cell_type": "code",
   "execution_count": null,
   "metadata": {},
   "outputs": [],
   "source": [
    "import torch\n",
    "import os\n",
    "import skimage\n",
    "from PIL import Image\n",
    "from pathlib import Path\n",
    "from torch.utils.data import DataLoader, Dataset\n",
    "from training.locallogger import LocalLogger2D\n",
    "from training.trainer import MRTrainer\n",
    "from datasets.imagesignal import ImageSignal\n",
    "from networks.mrnet import MRFactory\n",
    "from datasets.pyramids import create_MR_structure\n",
    "from datasets.sampling import make2Dcoords\n",
    "import yaml\n",
    "from yaml.loader import SafeLoader\n",
    "import matplotlib.pyplot as plt"
   ]
  },
  {
   "cell_type": "code",
   "execution_count": null,
   "metadata": {},
   "outputs": [],
   "source": [
    "os.environ[\"WANDB_NOTEBOOK_NAME\"] = \"train-wb.ipynb\"\n",
    "BASE_DIR = Path('.').absolute().parents[0]\n",
    "IMAGE_PATH = BASE_DIR.joinpath('img')\n",
    "MODEL_PATH = BASE_DIR.joinpath('models')"
   ]
  },
  {
   "cell_type": "code",
   "execution_count": null,
   "metadata": {},
   "outputs": [],
   "source": [
    "project_name = \"test_net_f2\"\n",
    "#-- hyperparameters in configs --#\n",
    "config_file = '../configs/config_base_m_net.yml'\n",
    "with open(config_file) as f:\n",
    "    hyper = yaml.load(f, Loader=SafeLoader)\n",
    "    print(hyper)"
   ]
  },
  {
   "cell_type": "code",
   "execution_count": null,
   "metadata": {},
   "outputs": [],
   "source": [
    "base_signal = ImageSignal.init_fromfile(\n",
    "                    os.path.join(IMAGE_PATH, hyper['image_name']),\n",
    "                    useattributes=hyper.get('useattributes', False),\n",
    "                    batch_pixels_perc=hyper['batch_pixels_perc'],\n",
    "                    width=hyper['width'],height= hyper['height'])\n",
    "\n",
    "if hyper['multiresolution'] == 'signal':\n",
    "    train_dataloader = DataLoader(base_signal, batch_size=hyper['batch_size'], shuffle=True, pin_memory=True, num_workers=0)\n",
    "    test_dataloader = DataLoader(base_signal, batch_size=hyper['batch_size'], pin_memory=True, num_workers=0)\n",
    "else:\n",
    "    type_mr_structure, shape_mr_structure = tuple(hyper['multiresolution'].split('_'))\n",
    "\n",
    "    pyramid = create_MR_structure(base_signal, hyper['max_stages'],type_pyr=type_mr_structure + \"_pyramid\")\n",
    "    tower = create_MR_structure(base_signal, hyper['max_stages'],type_pyr=type_mr_structure + \"_tower\")\n",
    "\n",
    "    trainsource = pyramid if shape_mr_structure == 'pyramid' else tower\n",
    "    train_dataloader = [DataLoader(signal, shuffle=True, batch_size=hyper['batch_size']) \n",
    "                        for signal in trainsource]\n",
    "    test_dataloader = [DataLoader(signal, batch_size=hyper['batch_size']) \n",
    "                        for signal in tower]"
   ]
  },
  {
   "cell_type": "code",
   "execution_count": null,
   "metadata": {},
   "outputs": [],
   "source": [
    "locallogger = LocalLogger2D(project_name,\n",
    "                            f\"{hyper['model']}{hyper['multiresolution'][0].upper()}{hyper['image_name'][0:4]}_\",\n",
    "                            hyper,\n",
    "                            BASE_DIR)\n",
    "mrmodel = MRFactory.from_dict(hyper)\n",
    "print(\"Model: \", type(mrmodel))\n",
    "mrtrainer = MRTrainer.init_from_dict(mrmodel, train_dataloader, test_dataloader, locallogger, hyper)\n",
    "mrtrainer.train(hyper['device'])"
   ]
  },
  {
   "cell_type": "code",
   "execution_count": null,
   "metadata": {},
   "outputs": [],
   "source": [
    "filename = f\"{hyper['model']}{hyper['multiresolution'][0].upper()}{hyper['image_name'][0:4]}.pth\"\n",
    "path = os.path.join(MODEL_PATH, filename)\n",
    "\n",
    "MRFactory.save(mrmodel, path)"
   ]
  },
  {
   "cell_type": "code",
   "execution_count": null,
   "metadata": {},
   "outputs": [],
   "source": [
    "mrmodel_eval = MRFactory.load_state_dict(path)\n",
    "\n",
    "output = mrmodel_eval(make2Dcoords(256,256))\n",
    "model_out = torch.clamp(output['model_out'], 0.0, 1.0)\n",
    "\n",
    "plt.imshow(model_out.cpu().view(256,256).detach().numpy())"
   ]
  }
 ],
 "metadata": {
  "kernelspec": {
   "display_name": "Python 3.8.13 ('mrnet')",
   "language": "python",
   "name": "python3"
  },
  "language_info": {
   "codemirror_mode": {
    "name": "ipython",
    "version": 3
   },
   "file_extension": ".py",
   "mimetype": "text/x-python",
   "name": "python",
   "nbconvert_exporter": "python",
   "pygments_lexer": "ipython3",
   "version": "3.8.13"
  },
  "orig_nbformat": 4,
  "vscode": {
   "interpreter": {
    "hash": "7057bd23362eedcba26383b73e23bddaaadbcc06d76ace968443b3bdf4612ccc"
   }
  }
 },
 "nbformat": 4,
 "nbformat_minor": 2
}
