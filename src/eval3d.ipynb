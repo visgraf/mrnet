{
 "cells": [
  {
   "cell_type": "code",
   "execution_count": 17,
   "metadata": {},
   "outputs": [],
   "source": [
    "import torch\n",
    "import os\n",
    "from pathlib import Path\n",
    "from networks.mrnet import MRFactory\n",
    "from datasets.sampler import make_grid_coords\n",
    "import yaml\n",
    "from yaml.loader import SafeLoader\n",
    "import matplotlib.pyplot as plt\n",
    "from PIL import Image\n",
    "import numpy as np\n",
    "from logs.utils import output_on_batched_domain\n",
    "import meshio\n",
    "from torch.utils.data import BatchSampler"
   ]
  },
  {
   "cell_type": "code",
   "execution_count": 2,
   "metadata": {},
   "outputs": [],
   "source": [
    "os.environ[\"WANDB_NOTEBOOK_NAME\"] = \"eval-net.ipynb\"\n",
    "BASE_DIR = Path('.').absolute().parents[0]\n",
    "MESH_PATH = BASE_DIR.joinpath('meshes')\n",
    "MODEL_PATH = BASE_DIR.joinpath('models')"
   ]
  },
  {
   "cell_type": "code",
   "execution_count": 3,
   "metadata": {},
   "outputs": [],
   "source": [
    "project_name = \"eval3d\"\n",
    "with open('../configs/config_base_m_net.yml') as f:\n",
    "    hyper = yaml.load(f, Loader=SafeLoader)"
   ]
  },
  {
   "cell_type": "code",
   "execution_count": 31,
   "metadata": {},
   "outputs": [],
   "source": [
    "# TODO: download model automatically from W&B if can't find it locally\n",
    "mrmodel = MRFactory.load_state_dict(\n",
    "    os.path.join(MODEL_PATH, 'MGwood__3-3_w9F_hf256_MEp21_hl1_128px.pth')\n",
    ")"
   ]
  },
  {
   "cell_type": "code",
   "execution_count": 5,
   "metadata": {},
   "outputs": [
    {
     "name": "stdout",
     "output_type": "stream",
     "text": [
      "Model:  <class 'networks.mrnet.MNet'>\n"
     ]
    }
   ],
   "source": [
    "print(\"Model: \", type(mrmodel))"
   ]
  },
  {
   "cell_type": "code",
   "execution_count": 6,
   "metadata": {},
   "outputs": [
    {
     "name": "stdout",
     "output_type": "stream",
     "text": [
      "p:  torch.Size([256, 3])  =  768\n",
      "p:  torch.Size([256])  =  256\n",
      "p:  torch.Size([256, 256])  =  65536\n",
      "p:  torch.Size([256])  =  256\n",
      "p:  torch.Size([3, 256])  =  768\n",
      "p:  torch.Size([3])  =  3\n",
      "p:  torch.Size([256, 3])  =  768\n",
      "p:  torch.Size([256])  =  256\n",
      "p:  torch.Size([256, 512])  =  131072\n",
      "p:  torch.Size([256])  =  256\n",
      "p:  torch.Size([3, 256])  =  768\n",
      "p:  torch.Size([3])  =  3\n",
      "p:  torch.Size([256, 3])  =  768\n",
      "p:  torch.Size([256])  =  256\n",
      "p:  torch.Size([256, 512])  =  131072\n",
      "p:  torch.Size([256])  =  256\n",
      "p:  torch.Size([3, 256])  =  768\n",
      "p:  torch.Size([3])  =  3\n",
      "TOTAL =  333830\n",
      "MODEL TOTAL =  333830\n"
     ]
    }
   ],
   "source": [
    "for p in mrmodel.parameters():\n",
    "    print(\"p: \", p.shape, \" = \", p.numel())\n",
    "total_params = sum(p.numel() for p in mrmodel.parameters()) - mrmodel.n_stages()\n",
    "print(\"TOTAL = \", total_params)\n",
    "print(\"MODEL TOTAL = \", mrmodel.total_parameters())"
   ]
  },
  {
   "cell_type": "code",
   "execution_count": 39,
   "metadata": {},
   "outputs": [
    {
     "data": {
      "text/plain": [
       "torch.Size([2503, 3])"
      ]
     },
     "execution_count": 39,
     "metadata": {},
     "output_type": "execute_result"
    }
   ],
   "source": [
    "mesh = meshio.read(os.path.join(MESH_PATH, 'bunny.obj'))\n",
    "points = 7* torch.from_numpy(mesh.points).float()\n",
    "points.shape"
   ]
  },
  {
   "cell_type": "code",
   "execution_count": 40,
   "metadata": {},
   "outputs": [
    {
     "data": {
      "text/plain": [
       "tensor(-0.6607)"
      ]
     },
     "execution_count": 40,
     "metadata": {},
     "output_type": "execute_result"
    }
   ],
   "source": [
    "torch.min(points)"
   ]
  },
  {
   "cell_type": "code",
   "execution_count": 41,
   "metadata": {},
   "outputs": [],
   "source": [
    "colors = []\n",
    "mrmodel.to(hyper['device'])\n",
    "for batch in BatchSampler(points, 256*256, drop_last=False):\n",
    "    batch = torch.stack(batch)\n",
    "    with torch.no_grad():\n",
    "        colors.append(mrmodel(batch.to(hyper['device']))['model_out'])\n",
    "colors = torch.concat(colors).cpu()"
   ]
  },
  {
   "cell_type": "code",
   "execution_count": 42,
   "metadata": {},
   "outputs": [],
   "source": [
    "mesh.point_data = {\n",
    "    'red': (colors[: , 0].numpy() * 255).astype(np.uint8),\n",
    "    'green': (colors[: , 1].numpy() * 255).astype(np.uint8),\n",
    "    'blue': (colors[: , 2].numpy() * 255).astype(np.uint8)\n",
    "}"
   ]
  },
  {
   "cell_type": "code",
   "execution_count": 43,
   "metadata": {},
   "outputs": [
    {
     "ename": "",
     "evalue": "",
     "output_type": "error",
     "traceback": [
      "\u001b[1;31mThe Kernel crashed while executing code in the the current cell or a previous cell. Please review the code in the cell(s) to identify a possible cause of the failure. Click <a href='https://aka.ms/vscodeJupyterKernelCrash'>here</a> for more info. View Jupyter <a href='command:jupyter.viewOutput'>log</a> for further details."
     ]
    }
   ],
   "source": [
    "mesh.write(os.path.join(MESH_PATH, 'textured_bunny.ply'), binary=False)"
   ]
  },
  {
   "cell_type": "code",
   "execution_count": null,
   "metadata": {},
   "outputs": [],
   "source": [
    "# output = output_on_batched_domain(mrmodel, 128, \n",
    "#                                   [-1, 1], 3, 256*256, hyper['cuda'])"
   ]
  },
  {
   "attachments": {},
   "cell_type": "markdown",
   "metadata": {},
   "source": [
    "## Extrapolation"
   ]
  },
  {
   "cell_type": "code",
   "execution_count": null,
   "metadata": {},
   "outputs": [],
   "source": [
    "import ipywidgets as widgets\n",
    "from ipywidgets import interact, interactive, Box, interact_manual"
   ]
  },
  {
   "cell_type": "code",
   "execution_count": null,
   "metadata": {},
   "outputs": [],
   "source": [
    "slider = widgets.FloatRangeSlider(\n",
    "    value=[-1.0, 1.0],\n",
    "    min=-7,\n",
    "    max=7,\n",
    "    step=0.1,\n",
    "    description='Interval:',\n",
    "    disabled=False,\n",
    "    continuous_update=False,\n",
    "    orientation='horizontal',\n",
    "    readout=True,\n",
    "    readout_format='.1f',\n",
    "    layout=widgets.Layout(width='50%')\n",
    ")\n",
    "\n",
    "model = mrmodel\n",
    "res = 512\n",
    "channels=1\n",
    "def plot_model(interval):\n",
    "    grid = make_grid_coords(res, res, *interval)\n",
    "    output = model(grid)\n",
    "    model_out = torch.clamp(output['model_out'], 0.0, 1.0)\n",
    "\n",
    "    pixels = model_out.cpu().detach().view(res, res, channels).numpy()\n",
    "    pixels = (pixels * 255).astype(np.uint8)\n",
    "    if channels == 1:\n",
    "        pixels = np.repeat(pixels, 3, axis=-1)\n",
    "    return Image.fromarray(pixels)\n",
    "\n",
    "interact(plot_model, interval=slider)"
   ]
  },
  {
   "attachments": {},
   "cell_type": "markdown",
   "metadata": {},
   "source": [
    "## Continuous in Scale"
   ]
  },
  {
   "cell_type": "code",
   "execution_count": null,
   "metadata": {},
   "outputs": [],
   "source": [
    "level_slider = widgets.FloatSlider(\n",
    "        value=1.0,\n",
    "        min=0.0,\n",
    "        max=float(mrmodel.n_stages()),\n",
    "        step=0.05,\n",
    "        description=f'Multilevel',\n",
    "        disabled=False,\n",
    "        continuous_update=True,\n",
    "        readout=True,\n",
    "        orientation='horizontal',\n",
    "        readout_format='.2f',\n",
    "        layout=widgets.Layout(width='50%')\n",
    ")\n",
    "def plot_model(level):\n",
    "    grid = make_grid_coords(res, res, -1.0, 1.0)\n",
    "    weights = []\n",
    "    for s in range(mrmodel.n_stages()):\n",
    "        if level >= s + 1:\n",
    "             weights.append(1.0)\n",
    "        else:\n",
    "             weights.append(max(level - s, 0.0))\n",
    "\n",
    "    output = model(grid, mrweights=torch.Tensor(weights))\n",
    "    model_out = torch.clamp(output['model_out'], 0.0, 1.0)\n",
    "\n",
    "    pixels = model_out.cpu().detach().view(res, res, channels).numpy()\n",
    "    pixels = (pixels * 255).astype(np.uint8)\n",
    "    if channels == 1:\n",
    "        pixels = np.repeat(pixels, 3, axis=-1)\n",
    "    return Image.fromarray(pixels)\n",
    "\n",
    "interact(plot_model, level=level_slider)"
   ]
  }
 ],
 "metadata": {
  "kernelspec": {
   "display_name": "venv",
   "language": "python",
   "name": "python3"
  },
  "language_info": {
   "codemirror_mode": {
    "name": "ipython",
    "version": 3
   },
   "file_extension": ".py",
   "mimetype": "text/x-python",
   "name": "python",
   "nbconvert_exporter": "python",
   "pygments_lexer": "ipython3",
   "version": "3.9.13"
  },
  "orig_nbformat": 4,
  "vscode": {
   "interpreter": {
    "hash": "fab3350075437ee175cb2bb5772eae02a2f558518190f925dd0f12cc356ed9ef"
   }
  }
 },
 "nbformat": 4,
 "nbformat_minor": 2
}
