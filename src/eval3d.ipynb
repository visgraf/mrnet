{
 "cells": [
  {
   "cell_type": "code",
   "execution_count": 1,
   "metadata": {},
   "outputs": [],
   "source": [
    "import torch\n",
    "import os\n",
    "from pathlib import Path\n",
    "from networks.mrnet import MRFactory\n",
    "from datasets.sampler import make_grid_coords\n",
    "import yaml\n",
    "from yaml.loader import SafeLoader\n",
    "import matplotlib.pyplot as plt\n",
    "from PIL import Image\n",
    "import numpy as np\n",
    "from logs.utils import output_on_batched_domain\n",
    "import trimesh\n",
    "from torch.utils.data import BatchSampler"
   ]
  },
  {
   "cell_type": "code",
   "execution_count": 2,
   "metadata": {},
   "outputs": [
    {
     "name": "stdout",
     "output_type": "stream",
     "text": [
      "{'model': 'M', 'in_features': 2, 'hidden_layers': 1, 'hidden_features': [8, 8, 16, 32, 64, 128, 192], 'bias': True, 'max_stages': 7, 'period': 2, 'domain': [-1, 1], 'omega_0': [1, 2, 4, 6, 8, 16, 32], 'hidden_omega_0': [30, 30, 30, 30, 30, 30, 30], 'superposition_w0': False, 'sampling_scheme': 'regular', 'decimation': True, 'filter': 'gauss', 'attributes': ['d0'], 'loss_function': 'mse', 'opt_method': 'Adam', 'lr': 0.0005, 'loss_tol': 1e-12, 'diff_tol': 1e-09, 'max_epochs_per_stage': [1000, 400, 400, 400, 400, 400, 400], 'batch_size': 16384, 'image_name': 'hallpaz.jpg', 'width': 512, 'height': 512, 'channels': 1, 'device': 'cuda', 'eval_device': 'cpu', 'save_format': 'general', 'visualize_grad': True, 'extrapolate': [-2, 2]}\n"
     ]
    }
   ],
   "source": [
    "os.environ[\"WANDB_NOTEBOOK_NAME\"] = \"eval-net.ipynb\"\n",
    "BASE_DIR = Path('.').absolute().parents[0]\n",
    "MESH_PATH = BASE_DIR.joinpath('meshes')\n",
    "MODEL_PATH = BASE_DIR.joinpath('models')\n",
    "\n",
    "project_name = \"eval3d\"\n",
    "with open('../configs/config_base_m_net.yml') as f:\n",
    "    hyper = yaml.load(f, Loader=SafeLoader)\n",
    "    if isinstance(hyper['batch_size'], str):\n",
    "        hyper['batch_size'] = eval(hyper['batch_size'])\n",
    "    print(hyper)"
   ]
  },
  {
   "cell_type": "code",
   "execution_count": 3,
   "metadata": {},
   "outputs": [
    {
     "name": "stdout",
     "output_type": "stream",
     "text": [
      "Model:  <class 'networks.mrnet.MNet'>\n",
      "MODEL TOTAL =  300550\n"
     ]
    }
   ],
   "source": [
    "# TODO: download model automatically from W&B if can't find it locally\n",
    "mrmodel = MRFactory.load_state_dict(\n",
    "    os.path.join(MODEL_PATH, \n",
    "                 'MGcolor_3-3_w12F_hf320_MEp22_hl1_128px.pth')\n",
    ")\n",
    "print(\"Model: \", type(mrmodel))\n",
    "print(\"MODEL TOTAL = \", mrmodel.total_parameters())"
   ]
  },
  {
   "cell_type": "code",
   "execution_count": 9,
   "metadata": {},
   "outputs": [
    {
     "name": "stdout",
     "output_type": "stream",
     "text": [
      "1.942396 -1.272332\n"
     ]
    },
    {
     "data": {
      "text/plain": [
       "torch.Size([106289, 3])"
      ]
     },
     "execution_count": 9,
     "metadata": {},
     "output_type": "execute_result"
    }
   ],
   "source": [
    "# mesh = meshio.read(os.path.join(MESH_PATH, 'armadillo.obj'))\n",
    "mesh = trimesh.load_mesh(os.path.join(MESH_PATH, 'cube.ply'))\n",
    "# print(np.max(mesh.points), np.min(mesh.points))\n",
    "# points = torch.from_numpy(mesh.points).float()\n",
    "# points.shape\n",
    "mesh"
   ]
  },
  {
   "cell_type": "code",
   "execution_count": 10,
   "metadata": {},
   "outputs": [],
   "source": [
    "colors = []\n",
    "mrmodel.to(hyper['device'])\n",
    "for batch in BatchSampler(points, 256*256, drop_last=False):\n",
    "    batch = torch.stack(batch)\n",
    "    with torch.no_grad():\n",
    "        colors.append(mrmodel(batch.to(hyper['device']))['model_out'])\n",
    "colors = torch.concat(colors).cpu()"
   ]
  },
  {
   "cell_type": "code",
   "execution_count": 6,
   "metadata": {},
   "outputs": [],
   "source": [
    "mesh.point_data = {\n",
    "    'red': (colors[: , 0].numpy() * 255).astype(np.uint8),\n",
    "    'green': (colors[: , 1].numpy() * 255).astype(np.uint8),\n",
    "    'blue': (colors[: , 2].numpy() * 255).astype(np.uint8)\n",
    "}\n",
    "mesh.write(os.path.join(MESH_PATH, 'colorful_armadillo.ply'), binary=False)"
   ]
  },
  {
   "attachments": {},
   "cell_type": "markdown",
   "metadata": {},
   "source": [
    "## Extrapolation"
   ]
  },
  {
   "cell_type": "code",
   "execution_count": null,
   "metadata": {},
   "outputs": [],
   "source": [
    "import ipywidgets as widgets\n",
    "from ipywidgets import interact, interactive, Box, interact_manual"
   ]
  },
  {
   "cell_type": "code",
   "execution_count": null,
   "metadata": {},
   "outputs": [],
   "source": [
    "slider = widgets.FloatRangeSlider(\n",
    "    value=[-1.0, 1.0],\n",
    "    min=-7,\n",
    "    max=7,\n",
    "    step=0.1,\n",
    "    description='Interval:',\n",
    "    disabled=False,\n",
    "    continuous_update=False,\n",
    "    orientation='horizontal',\n",
    "    readout=True,\n",
    "    readout_format='.1f',\n",
    "    layout=widgets.Layout(width='50%')\n",
    ")\n",
    "\n",
    "model = mrmodel\n",
    "res = 512\n",
    "channels=1\n",
    "def plot_model(interval):\n",
    "    grid = make_grid_coords(res, res, *interval)\n",
    "    output = model(grid)\n",
    "    model_out = torch.clamp(output['model_out'], 0.0, 1.0)\n",
    "\n",
    "    pixels = model_out.cpu().detach().view(res, res, channels).numpy()\n",
    "    pixels = (pixels * 255).astype(np.uint8)\n",
    "    if channels == 1:\n",
    "        pixels = np.repeat(pixels, 3, axis=-1)\n",
    "    return Image.fromarray(pixels)\n",
    "\n",
    "interact(plot_model, interval=slider)"
   ]
  },
  {
   "attachments": {},
   "cell_type": "markdown",
   "metadata": {},
   "source": [
    "## Continuous in Scale"
   ]
  },
  {
   "cell_type": "code",
   "execution_count": null,
   "metadata": {},
   "outputs": [],
   "source": [
    "level_slider = widgets.FloatSlider(\n",
    "        value=1.0,\n",
    "        min=0.0,\n",
    "        max=float(mrmodel.n_stages()),\n",
    "        step=0.05,\n",
    "        description=f'Multilevel',\n",
    "        disabled=False,\n",
    "        continuous_update=True,\n",
    "        readout=True,\n",
    "        orientation='horizontal',\n",
    "        readout_format='.2f',\n",
    "        layout=widgets.Layout(width='50%')\n",
    ")\n",
    "def plot_model(level):\n",
    "    grid = make_grid_coords(res, res, -1.0, 1.0)\n",
    "    weights = []\n",
    "    for s in range(mrmodel.n_stages()):\n",
    "        if level >= s + 1:\n",
    "             weights.append(1.0)\n",
    "        else:\n",
    "             weights.append(max(level - s, 0.0))\n",
    "\n",
    "    output = model(grid, mrweights=torch.Tensor(weights))\n",
    "    model_out = torch.clamp(output['model_out'], 0.0, 1.0)\n",
    "\n",
    "    pixels = model_out.cpu().detach().view(res, res, channels).numpy()\n",
    "    pixels = (pixels * 255).astype(np.uint8)\n",
    "    if channels == 1:\n",
    "        pixels = np.repeat(pixels, 3, axis=-1)\n",
    "    return Image.fromarray(pixels)\n",
    "\n",
    "interact(plot_model, level=level_slider)"
   ]
  }
 ],
 "metadata": {
  "kernelspec": {
   "display_name": "venv",
   "language": "python",
   "name": "python3"
  },
  "language_info": {
   "codemirror_mode": {
    "name": "ipython",
    "version": 3
   },
   "file_extension": ".py",
   "mimetype": "text/x-python",
   "name": "python",
   "nbconvert_exporter": "python",
   "pygments_lexer": "ipython3",
   "version": "3.9.13"
  },
  "orig_nbformat": 4,
  "vscode": {
   "interpreter": {
    "hash": "fab3350075437ee175cb2bb5772eae02a2f558518190f925dd0f12cc356ed9ef"
   }
  }
 },
 "nbformat": 4,
 "nbformat_minor": 2
}
