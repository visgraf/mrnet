{
 "cells": [
  {
   "cell_type": "code",
   "execution_count": 1,
   "metadata": {},
   "outputs": [],
   "source": [
    "import torch\n",
    "import os\n",
    "from pathlib import Path\n",
    "from networks.mrnet import MRFactory\n",
    "from datasets.sampler import make2Dcoords\n",
    "import yaml\n",
    "from yaml.loader import SafeLoader\n",
    "import matplotlib.pyplot as plt\n",
    "from PIL import Image\n",
    "import numpy as np"
   ]
  },
  {
   "cell_type": "code",
   "execution_count": 2,
   "metadata": {},
   "outputs": [],
   "source": [
    "os.environ[\"WANDB_NOTEBOOK_NAME\"] = \"eval-net.ipynb\"\n",
    "BASE_DIR = Path('.').absolute().parents[0]\n",
    "IMAGE_PATH = BASE_DIR.joinpath('img')\n",
    "MODEL_PATH = BASE_DIR.joinpath('models')"
   ]
  },
  {
   "cell_type": "code",
   "execution_count": 3,
   "metadata": {},
   "outputs": [],
   "source": [
    "project_name = \"test_eval\"\n",
    "with open('../configs/config_base_m_net.yml') as f:\n",
    "    hyper = yaml.load(f, Loader=SafeLoader)\n"
   ]
  },
  {
   "cell_type": "code",
   "execution_count": 4,
   "metadata": {},
   "outputs": [],
   "source": [
    "mrmodel = MRFactory.load_state_dict(\n",
    "    os.path.join(MODEL_PATH,\n",
    "                 'MGchec_louco_3-3_w16T_hf289_MEp2000_hl1_256px.pth'))\n",
    "                 #\"MGalbe_2m_3-3_w16T_hf289_MEp2000_hl1_256px.pth\"))\n",
    "                 #\"MGchec_P_3-3_w16T_hf289_MEp2000_hl1_256px.pth\"))"
   ]
  },
  {
   "cell_type": "code",
   "execution_count": 5,
   "metadata": {},
   "outputs": [
    {
     "name": "stdout",
     "output_type": "stream",
     "text": [
      "Model:  <class 'networks.mrnet.MNet'>\n"
     ]
    }
   ],
   "source": [
    "print(\"Model: \", type(mrmodel))"
   ]
  },
  {
   "cell_type": "code",
   "execution_count": 6,
   "metadata": {},
   "outputs": [
    {
     "name": "stdout",
     "output_type": "stream",
     "text": [
      "p:  torch.Size([25, 2])  =  50\n",
      "p:  torch.Size([25])  =  25\n",
      "p:  torch.Size([25, 25])  =  625\n",
      "p:  torch.Size([25])  =  25\n",
      "p:  torch.Size([1, 25])  =  25\n",
      "p:  torch.Size([1])  =  1\n",
      "p:  torch.Size([81, 2])  =  162\n",
      "p:  torch.Size([81])  =  81\n",
      "p:  torch.Size([81, 106])  =  8586\n",
      "p:  torch.Size([81])  =  81\n",
      "p:  torch.Size([1, 81])  =  81\n",
      "p:  torch.Size([1])  =  1\n",
      "p:  torch.Size([289, 2])  =  578\n",
      "p:  torch.Size([289])  =  289\n",
      "p:  torch.Size([289, 370])  =  106930\n",
      "p:  torch.Size([289])  =  289\n",
      "p:  torch.Size([1, 289])  =  289\n",
      "p:  torch.Size([1])  =  1\n",
      "TOTAL =  118116\n",
      "MODEL TOTAL =  118116\n"
     ]
    }
   ],
   "source": [
    "for p in mrmodel.parameters():\n",
    "    print(\"p: \", p.shape, \" = \", p.numel())\n",
    "total_params = sum(p.numel() for p in mrmodel.parameters()) - mrmodel.n_stages()\n",
    "print(\"TOTAL = \", total_params)\n",
    "print(\"MODEL TOTAL = \", mrmodel.total_parameters())"
   ]
  },
  {
   "cell_type": "code",
   "execution_count": 7,
   "metadata": {},
   "outputs": [
    {
     "data": {
      "text/plain": [
       "<matplotlib.image.AxesImage at 0x2469acf03d0>"
      ]
     },
     "execution_count": 7,
     "metadata": {},
     "output_type": "execute_result"
    },
    {
     "data": {
      "image/png": "[encoded data removed]",
      "text/plain": [
       "<Figure size 432x288 with 1 Axes>"
      ]
     },
     "metadata": {
      "needs_background": "light"
     },
     "output_type": "display_data"
    }
   ],
   "source": [
    "output = mrmodel(make2Dcoords(256,256))\n",
    "model_out = torch.clamp(output['model_out'], 0.0, 1.0)\n",
    "\n",
    "plt.imshow(model_out.cpu().view(256,256).detach().numpy())\n"
   ]
  },
  {
   "cell_type": "code",
   "execution_count": 8,
   "metadata": {},
   "outputs": [],
   "source": [
    "import ipywidgets as widgets\n",
    "from ipywidgets import interact, interactive, fixed, interact_manual"
   ]
  },
  {
   "cell_type": "code",
   "execution_count": 9,
   "metadata": {},
   "outputs": [
    {
     "data": {
      "application/vnd.jupyter.widget-view+json": {
       "model_id": "2cbd712a062346b28605e5d930011b82",
       "version_major": 2,
       "version_minor": 0
      },
      "text/plain": [
       "IntSlider(value=0)"
      ]
     },
     "metadata": {},
     "output_type": "display_data"
    }
   ],
   "source": [
    "w = widgets.IntSlider()\n",
    "display(w)"
   ]
  },
  {
   "cell_type": "code",
   "execution_count": 11,
   "metadata": {},
   "outputs": [
    {
     "data": {
      "application/vnd.jupyter.widget-view+json": {
       "model_id": "6dca0506fb4d4a40becbf081a989f33f",
       "version_major": 2,
       "version_minor": 0
      },
      "text/plain": [
       "interactive(children=(FloatRangeSlider(value=(-1.0, 1.0), continuous_update=False, description='Interval:', la…"
      ]
     },
     "metadata": {},
     "output_type": "display_data"
    },
    {
     "data": {
      "text/plain": [
       "<function __main__.plot_model(interval)>"
      ]
     },
     "execution_count": 11,
     "metadata": {},
     "output_type": "execute_result"
    }
   ],
   "source": [
    "slider = widgets.FloatRangeSlider(\n",
    "    value=[-1.0, 1.0],\n",
    "    min=-7,\n",
    "    max=7,\n",
    "    step=0.1,\n",
    "    description='Interval:',\n",
    "    disabled=False,\n",
    "    continuous_update=False,\n",
    "    orientation='horizontal',\n",
    "    readout=True,\n",
    "    readout_format='.1f',\n",
    "    layout=widgets.Layout(width='50%')\n",
    ")\n",
    "\n",
    "model = mrmodel\n",
    "res = 256\n",
    "channels=1\n",
    "def plot_model(interval):\n",
    "    output = model(make2Dcoords(res, res, *interval))\n",
    "    model_out = torch.clamp(output['model_out'], 0.0, 1.0)\n",
    "\n",
    "    pixels = model_out.cpu().detach().view(res, res, channels).numpy()\n",
    "    pixels = (pixels * 255).astype(np.uint8)\n",
    "    if channels == 1:\n",
    "        pixels = np.repeat(pixels, 3, axis=-1)\n",
    "    return Image.fromarray(pixels)\n",
    "\n",
    "interact(plot_model, interval=slider)"
   ]
  },
  {
   "cell_type": "code",
   "execution_count": null,
   "metadata": {},
   "outputs": [],
   "source": []
  }
 ],
 "metadata": {
  "kernelspec": {
   "display_name": "Python 3.8.13",
   "language": "python",
   "name": "python3"
  },
  "language_info": {
   "codemirror_mode": {
    "name": "ipython",
    "version": 3
   },
   "file_extension": ".py",
   "mimetype": "text/x-python",
   "name": "python",
   "nbconvert_exporter": "python",
   "pygments_lexer": "ipython3",
   "version": "3.9.13"
  },
  "orig_nbformat": 4,
  "vscode": {
   "interpreter": {
    "hash": "7057bd23362eedcba26383b73e23bddaaadbcc06d76ace968443b3bdf4612ccc"
   }
  }
 },
 "nbformat": 4,
 "nbformat_minor": 2
}
