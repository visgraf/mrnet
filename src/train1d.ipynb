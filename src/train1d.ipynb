{
 "cells": [
  {
   "cell_type": "code",
   "execution_count": 1,
   "metadata": {},
   "outputs": [],
   "source": [
    "import os\n",
    "from pathlib import Path\n",
    "\n",
    "from logs.wandblogger import WandBLogger1D\n",
    "from training.trainer import MRTrainer\n",
    "from datasets.signals import Signal1D\n",
    "from datasets.utils import perlin_noise\n",
    "from networks.mrnet import MRFactory\n",
    "from datasets.pyramids import create_MR_structure\n",
    "import yaml\n",
    "from yaml.loader import SafeLoader\n",
    "import torch\n",
    "from skimage.transform import pyramid_gaussian"
   ]
  },
  {
   "cell_type": "code",
   "execution_count": 2,
   "metadata": {},
   "outputs": [],
   "source": [
    "torch.manual_seed(777)\n",
    "os.environ[\"WANDB_NOTEBOOK_NAME\"] = \"train-wb.ipynb\"\n",
    "os.environ[\"PYTORCH_ENABLE_MPS_FALLBACK\"] = \"1\"\n",
    "BASE_DIR = Path('.').absolute().parents[0]\n",
    "DATA_PATH = BASE_DIR.joinpath('img')\n",
    "MODEL_PATH = BASE_DIR.joinpath('models')"
   ]
  },
  {
   "cell_type": "code",
   "execution_count": 3,
   "metadata": {},
   "outputs": [
    {
     "name": "stdout",
     "output_type": "stream",
     "text": [
      "{'model': 'M', 'positive_freqs': True, 'in_features': 1, 'out_features': 1, 'hidden_layers': 1, 'hidden_features': [[32, 24], [64, 24], 8, 16, 32], 'bias': True, 'max_stages': 3, 'period': 2, 'domain': [-1, 1], 'omega_0': [32, 128, 16, 32, 64], 'hidden_omega_0': [30, 30, 30, 30, 30, 30, 30], 'superposition_w0': False, 'sampling_scheme': 'regular', 'decimation': True, 'filter': 'gauss', 'attributes': ['d0'], 'loss_function': 'mse', 'opt_method': 'Adam', 'lr': 0.0005, 'loss_tol': 1e-14, 'diff_tol': 1e-11, 'max_epochs_per_stage': [2000, 1000, 401, 401, 401, 401, 401], 'batch_size': 16384, 'image_name': 'perlin', 'width': 1024, 'channels': 1, 'device': 'cuda', 'eval_device': 'cpu', 'save_format': 'general', 'visualize_grad': True, 'extrapolate': [-2, 2]}\n"
     ]
    }
   ],
   "source": [
    "project_name = \"optim-init\"\n",
    "#-- hyperparameters in configs --#\n",
    "config_file = '../configs/config_1d_m_net.yml'\n",
    "with open(config_file) as f:\n",
    "    hyper = yaml.load(f, Loader=SafeLoader)\n",
    "    if isinstance(hyper['batch_size'], str):\n",
    "        hyper['batch_size'] = eval(hyper['batch_size'])\n",
    "    print(hyper)\n",
    "srcpath = os.path.join(DATA_PATH, hyper['image_name'])"
   ]
  },
  {
   "cell_type": "code",
   "execution_count": 4,
   "metadata": {},
   "outputs": [],
   "source": [
    "noise = perlin_noise(hyper['width'], octaves=7, p=1.4)"
   ]
  },
  {
   "cell_type": "code",
   "execution_count": 5,
   "metadata": {},
   "outputs": [
    {
     "name": "stdout",
     "output_type": "stream",
     "text": [
      "2 1\n"
     ]
    }
   ],
   "source": [
    "filtered = [data for data in pyramid_gaussian(noise.numpy(), max_layer=1,\n",
    "                                sigma=2/3, mode='wrap')]\n",
    "print(len(filtered), len(filtered[-1]))\n",
    "# func = lambda x: torch.cos(4*x * 2*torch.pi) + torch.cos(8*x * 2*torch.pi) + torch.cos(24*x * 2*torch.pi) + torch.cos(30*x * 2*torch.pi)\n",
    "# synthetic = func(torch.linspace(-1, 1, hyper['width']))\n",
    "base_signal = Signal1D(torch.from_numpy(filtered[-1]).view(1, -1),\n",
    "                        domain=hyper['domain'],\n",
    "                        sampling_scheme=hyper['sampling_scheme'],\n",
    "                        attributes=hyper['attributes'],\n",
    "                        batch_size=hyper['batch_size'])\n",
    "\n",
    "train_dataloader = create_MR_structure(base_signal, hyper['max_stages'], \n",
    "                                       hyper['filter'], hyper['decimation'])\n",
    "test_dataloader = create_MR_structure(base_signal, hyper['max_stages'], \n",
    "                                      hyper['filter'], False)"
   ]
  },
  {
   "cell_type": "code",
   "execution_count": 6,
   "metadata": {},
   "outputs": [
    {
     "name": "stdout",
     "output_type": "stream",
     "text": [
      "3\n"
     ]
    }
   ],
   "source": [
    "print(len(train_dataloader))"
   ]
  },
  {
   "cell_type": "code",
   "execution_count": 5,
   "metadata": {},
   "outputs": [
    {
     "data": {
      "text/plain": [
       "'cuda'"
      ]
     },
     "execution_count": 5,
     "metadata": {},
     "output_type": "execute_result"
    }
   ],
   "source": [
    "hyper['device']"
   ]
  },
  {
   "cell_type": "code",
   "execution_count": 6,
   "metadata": {},
   "outputs": [
    {
     "name": "stdout",
     "output_type": "stream",
     "text": [
      "Model:  <class 'networks.mrnet.MNet'>\n"
     ]
    },
    {
     "name": "stderr",
     "output_type": "stream",
     "text": [
      "\u001b[34m\u001b[1mwandb\u001b[0m: Currently logged in as: \u001b[33mhallpaz\u001b[0m (\u001b[33msiren-song\u001b[0m). Use \u001b[1m`wandb login --relogin`\u001b[0m to force relogin\n"
     ]
    },
    {
     "data": {
      "text/html": [
       "wandb version 0.15.1 is available!  To upgrade, please run:\n",
       " $ pip install wandb --upgrade"
      ],
      "text/plain": [
       "<IPython.core.display.HTML object>"
      ]
     },
     "metadata": {},
     "output_type": "display_data"
    },
    {
     "data": {
      "text/html": [
       "Tracking run with wandb version 0.15.0"
      ],
      "text/plain": [
       "<IPython.core.display.HTML object>"
      ]
     },
     "metadata": {},
     "output_type": "display_data"
    },
    {
     "data": {
      "text/html": [
       "Run data is saved locally in <code>e:\\Workspace\\impa\\mrnet\\src\\wandb\\run-20230505_003901-xm7zzo5e</code>"
      ],
      "text/plain": [
       "<IPython.core.display.HTML object>"
      ]
     },
     "metadata": {},
     "output_type": "display_data"
    },
    {
     "data": {
      "text/html": [
       "Syncing run <strong><a href='https://wandb.ai/siren-song/optim-init/runs/xm7zzo5e' target=\"_blank\">MGperli_1/1_w32F_hf3224_MEp2000_hl1_r1024_pr2</a></strong> to <a href='https://wandb.ai/siren-song/optim-init' target=\"_blank\">Weights & Biases</a> (<a href='https://wandb.me/run' target=\"_blank\">docs</a>)<br/>"
      ],
      "text/plain": [
       "<IPython.core.display.HTML object>"
      ]
     },
     "metadata": {},
     "output_type": "display_data"
    },
    {
     "data": {
      "text/html": [
       " View project at <a href='https://wandb.ai/siren-song/optim-init' target=\"_blank\">https://wandb.ai/siren-song/optim-init</a>"
      ],
      "text/plain": [
       "<IPython.core.display.HTML object>"
      ]
     },
     "metadata": {},
     "output_type": "display_data"
    },
    {
     "data": {
      "text/html": [
       " View run at <a href='https://wandb.ai/siren-song/optim-init/runs/xm7zzo5e' target=\"_blank\">https://wandb.ai/siren-song/optim-init/runs/xm7zzo5e</a>"
      ],
      "text/plain": [
       "<IPython.core.display.HTML object>"
      ]
     },
     "metadata": {},
     "output_type": "display_data"
    },
    {
     "name": "stdout",
     "output_type": "stream",
     "text": [
      "DATA SIZE torch.Size([1, 1024])\n",
      "(32,) [28. 32. 13. 20. 23. 18.  8. 15. 22.  3. 24. 19.  9. 29. 14. 30. 25. 21.\n",
      " 16. 10.  6.  5.  7.  1. 26. 11. 17. 27. 12. 31.  2.  4.]\n",
      "Logged\n",
      "File  MGperli_1-1_w32F_hf3224_MEp2000_hl1_r1024_pr2.pth\n"
     ]
    },
    {
     "data": {
      "text/html": [
       "Waiting for W&B process to finish... <strong style=\"color:green\">(success).</strong>"
      ],
      "text/plain": [
       "<IPython.core.display.HTML object>"
      ]
     },
     "metadata": {},
     "output_type": "display_data"
    },
    {
     "data": {
      "text/html": [
       "<style>\n",
       "    table.wandb td:nth-child(1) { padding: 0 10px; text-align: left ; width: auto;} td:nth-child(2) {text-align: left ; width: 100%}\n",
       "    .wandb-row { display: flex; flex-direction: row; flex-wrap: wrap; justify-content: flex-start; width: 100% }\n",
       "    .wandb-col { display: flex; flex-direction: column; flex-basis: 100%; flex: 1; padding: 10px; }\n",
       "    </style>\n",
       "<div class=\"wandb-row\"><div class=\"wandb-col\"><h3>Run history:</h3><br/><table class=\"wandb\"><tr><td>D0 loss</td><td>█▂▁▁▁▁▁▁▁▁▁▁▁▁▁▁▁▁▁▁▁▁▁▁▁▁▁▁▁▁▁▁▁▁▁▁▁▁▁▁</td></tr></table><br/></div><div class=\"wandb-col\"><h3>Run summary:</h3><br/><table class=\"wandb\"><tr><td>D0 loss</td><td>0.00048</td></tr></table><br/></div></div>"
      ],
      "text/plain": [
       "<IPython.core.display.HTML object>"
      ]
     },
     "metadata": {},
     "output_type": "display_data"
    },
    {
     "data": {
      "text/html": [
       " View run <strong style=\"color:#cdcd00\">MGperli_1/1_w32F_hf3224_MEp2000_hl1_r1024_pr2</strong> at: <a href='https://wandb.ai/siren-song/optim-init/runs/xm7zzo5e' target=\"_blank\">https://wandb.ai/siren-song/optim-init/runs/xm7zzo5e</a><br/>Synced 6 W&B file(s), 8 media file(s), 9 artifact file(s) and 0 other file(s)"
      ],
      "text/plain": [
       "<IPython.core.display.HTML object>"
      ]
     },
     "metadata": {},
     "output_type": "display_data"
    },
    {
     "data": {
      "text/html": [
       "Find logs at: <code>.\\wandb\\run-20230505_003901-xm7zzo5e\\logs</code>"
      ],
      "text/plain": [
       "<IPython.core.display.HTML object>"
      ]
     },
     "metadata": {},
     "output_type": "display_data"
    },
    {
     "name": "stdout",
     "output_type": "stream",
     "text": [
      "Total model parameters =  880\n",
      "Training finished after 2000 epochs\n"
     ]
    }
   ],
   "source": [
    "img_name = os.path.basename(hyper['image_name'])\n",
    "wandblogger = WandBLogger1D(project_name,\n",
    "                            f\"{hyper['model']}{hyper['filter'][0].upper()}{img_name[0:5]}\",\n",
    "                            hyper,\n",
    "                            BASE_DIR,\n",
    "                            visualize_gt_grads=hyper.get('visualize_grad', False))\n",
    "mrmodel = MRFactory.from_dict(hyper)\n",
    "print(\"Model: \", type(mrmodel))\n",
    "mrtrainer = MRTrainer.init_from_dict(mrmodel, train_dataloader, test_dataloader, wandblogger, hyper)\n",
    "mrtrainer.train(hyper['device'])"
   ]
  }
 ],
 "metadata": {
  "kernelspec": {
   "display_name": "venv",
   "language": "python",
   "name": "python3"
  },
  "language_info": {
   "codemirror_mode": {
    "name": "ipython",
    "version": 3
   },
   "file_extension": ".py",
   "mimetype": "text/x-python",
   "name": "python",
   "nbconvert_exporter": "python",
   "pygments_lexer": "ipython3",
   "version": "3.9.13"
  },
  "orig_nbformat": 4,
  "vscode": {
   "interpreter": {
    "hash": "fab3350075437ee175cb2bb5772eae02a2f558518190f925dd0f12cc356ed9ef"
   }
  }
 },
 "nbformat": 4,
 "nbformat_minor": 2
}
